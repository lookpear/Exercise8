{
 "cells": [
  {
   "cell_type": "code",
   "execution_count": 3,
   "metadata": {},
   "outputs": [],
   "source": [
    "import numpy as np\n",
    "from matplotlib import pyplot as plt"
   ]
  },
  {
   "cell_type": "markdown",
   "metadata": {},
   "source": [
    "# Basics"
   ]
  },
  {
   "cell_type": "markdown",
   "metadata": {},
   "source": [
    "1) Consider the problem of classifying 4 dimension features(unpadded).\n",
    "\n",
    "Draw a network(on paper or something) of a neural network of 4 hidden layer where the first two hidden layers has 2 nodes each and last two has 3 nodes each."
   ]
  },
  {
   "cell_type": "code",
   "execution_count": null,
   "metadata": {},
   "outputs": [],
   "source": []
  },
  {
   "cell_type": "markdown",
   "metadata": {},
   "source": [
    "2) What is the dimension for all the $W$ adn $b$?"
   ]
  },
  {
   "cell_type": "code",
   "execution_count": null,
   "metadata": {},
   "outputs": [],
   "source": []
  },
  {
   "cell_type": "markdown",
   "metadata": {},
   "source": [
    "3) Consider \n",
    "$$\n",
    "    W^{[1]} = \\begin{bmatrix}\n",
    "        4 & 1 \\\\\n",
    "        -3 & 3 \\\\\n",
    "        2 & 3\n",
    "    \\end{bmatrix}\n",
    "$$\n",
    "\n",
    "$$\n",
    "    b^{[1]} = \\begin{bmatrix}\n",
    "       1 \\\\\n",
    "       2 \\\\\n",
    "       -3 \\\\\n",
    "    \\end{bmatrix}\n",
    "$$\n",
    "\n",
    "and \n",
    "\n",
    "$$ W^{[2]} = \\begin{bmatrix}\n",
    "2 & 3\n",
    "\\end{bmatrix}\n",
    "$$\n",
    "\n",
    "$$\n",
    "    b^{2} = \\begin{bmatrix}\n",
    "-2\n",
    "\\end{bmatrix}\n",
    "$$\n",
    "\n",
    "What does your network look like?"
   ]
  },
  {
   "cell_type": "code",
   "execution_count": null,
   "metadata": {},
   "outputs": [],
   "source": []
  },
  {
   "cell_type": "markdown",
   "metadata": {},
   "source": [
    "4) What is the probability of $x = \\begin{bmatrix} 1 \\\\ 2 \\end{bmatrix}$ to be of class 1."
   ]
  },
  {
   "cell_type": "code",
   "execution_count": null,
   "metadata": {},
   "outputs": [],
   "source": []
  },
  {
   "cell_type": "markdown",
   "metadata": {},
   "source": [
    "5) Given two dimension feature find the weights for the network that returns 1 if $2x_1 + x_2 - 1 > 0$ AND $x_1 - x_2 - 1 > 0$"
   ]
  },
  {
   "cell_type": "code",
   "execution_count": null,
   "metadata": {},
   "outputs": [],
   "source": []
  },
  {
   "cell_type": "markdown",
   "metadata": {},
   "source": [
    "# Training"
   ]
  },
  {
   "cell_type": "markdown",
   "metadata": {},
   "source": [
    "1) What's our cost function?"
   ]
  },
  {
   "cell_type": "code",
   "execution_count": null,
   "metadata": {},
   "outputs": [],
   "source": []
  },
  {
   "cell_type": "markdown",
   "metadata": {},
   "source": [
    "2) Consider the following dataset. \n",
    "\n",
    "We want to train a neural network 2 hidden layers where the first one has 4 nodes and second one with 2 nodes. How many parameters do we need in total?"
   ]
  },
  {
   "cell_type": "code",
   "execution_count": 14,
   "metadata": {},
   "outputs": [
    {
     "data": {
      "image/png": "[encoded data removed]",
      "text/plain": [
       "<Figure size 432x288 with 1 Axes>"
      ]
     },
     "metadata": {
      "image/png": {
       "height": 250,
       "width": 372
      },
      "needs_background": "light"
     },
     "output_type": "display_data"
    }
   ],
   "source": [
    "np.random.seed(999)\n",
    "xs = np.hstack([np.random.randn(2,50), np.random.random(size=(2,50))*8-4])\n",
    "ys = np.array([1]*50+[0]*50)\n",
    "\n",
    "def draw_data():\n",
    "    plt.plot(xs[0, ys==0], xs[1, ys==0], '.r')\n",
    "    plt.plot(xs[0, ys==1], xs[1, ys==1], '.b')\n",
    "    \n",
    "draw_data()"
   ]
  },
  {
   "cell_type": "markdown",
   "metadata": {},
   "source": [
    "3) Is initializing your initial weight with all 0 or all the same number a good idea?"
   ]
  },
  {
   "cell_type": "code",
   "execution_count": null,
   "metadata": {},
   "outputs": [],
   "source": []
  },
  {
   "cell_type": "markdown",
   "metadata": {},
   "source": [
    "4) Given the following size information. Complete the following function."
   ]
  },
  {
   "cell_type": "code",
   "execution_count": null,
   "metadata": {},
   "outputs": [],
   "source": [
    "n_node = [4, 2, 1] # number of node in each layer\n",
    "def compute_w_b_offset(layer_no):\n",
    "    pass # fill this\n",
    "    return w_offset, n_w, b_offset, n_b # this is so that we can slice off parameter"
   ]
  },
  {
   "cell_type": "markdown",
   "metadata": {},
   "source": [
    "4) What implement the vectorized version of our cost function."
   ]
  },
  {
   "cell_type": "code",
   "execution_count": null,
   "metadata": {},
   "outputs": [],
   "source": []
  },
  {
   "cell_type": "markdown",
   "metadata": {},
   "source": [
    "5) Use np.optimize.minimize to train your network. Check with contour plot."
   ]
  },
  {
   "cell_type": "code",
   "execution_count": 19,
   "metadata": {},
   "outputs": [],
   "source": [
    "class SadNeuralNetwork:\n",
    "    def __init__(self):\n",
    "        pass\n",
    "    def train(self, xs, ys):\n",
    "        pass\n",
    "    def classify(self, xs):\n",
    "        pass"
   ]
  },
  {
   "cell_type": "markdown",
   "metadata": {},
   "source": [
    "# Back Propagation"
   ]
  },
  {
   "cell_type": "markdown",
   "metadata": {},
   "source": [
    "1) Why minimize is a bad idea?"
   ]
  },
  {
   "cell_type": "code",
   "execution_count": null,
   "metadata": {},
   "outputs": [],
   "source": []
  },
  {
   "cell_type": "markdown",
   "metadata": {},
   "source": [
    "2) Write down the update rule (The recursion relation one)"
   ]
  },
  {
   "cell_type": "code",
   "execution_count": null,
   "metadata": {},
   "outputs": [],
   "source": []
  },
  {
   "cell_type": "markdown",
   "metadata": {},
   "source": [
    "3) For the rest of the week. Write back propagation. This should work for any size neural network.\n",
    "\n",
    "Shouldn't take that long though. You will spend most of the time on trying to understand the relation above.\n",
    "\n",
    "Do this once and use library for the rest of your life unless you want something super custom."
   ]
  },
  {
   "cell_type": "code",
   "execution_count": 18,
   "metadata": {},
   "outputs": [],
   "source": [
    "class NeuralNetwork:\n",
    "    def __init__(self, n_nodes):\n",
    "        pass\n",
    "    \n",
    "    def train(self, xs, ys, lmbda):\n",
    "        #back prop\n",
    "        pass\n",
    "    \n",
    "    def classify(self, xs):\n",
    "        pass"
   ]
  },
  {
   "cell_type": "code",
   "execution_count": null,
   "metadata": {},
   "outputs": [],
   "source": []
  }
 ],
 "metadata": {
  "kernelspec": {
   "display_name": "Python 3",
   "language": "python",
   "name": "python3"
  },
  "language_info": {
   "codemirror_mode": {
    "name": "ipython",
    "version": 3
   },
   "file_extension": ".py",
   "mimetype": "text/x-python",
   "name": "python",
   "nbconvert_exporter": "python",
   "pygments_lexer": "ipython3",
   "version": "3.7.0"
  },
  "toc": {
   "colors": {
    "hover_highlight": "#DAA520",
    "running_highlight": "#FF0000",
    "selected_highlight": "#FFD700"
   },
   "moveMenuLeft": true,
   "nav_menu": {
    "height": "66px",
    "width": "252px"
   },
   "navigate_menu": true,
   "number_sections": false,
   "sideBar": true,
   "threshold": 4,
   "toc_cell": false,
   "toc_section_display": "block",
   "toc_window_display": false
  }
 },
 "nbformat": 4,
 "nbformat_minor": 2
}
